{
 "cells": [
  {
   "cell_type": "markdown",
   "metadata": {},
   "source": [
    "Game Roles\n",
    "\n",
    "rock --> siss\n",
    "\n",
    "sissor --> paper \n",
    "\n",
    "paper --> rock "
   ]
  },
  {
   "cell_type": "code",
   "execution_count": null,
   "metadata": {},
   "outputs": [],
   "source": [
    "player1 = input(\"please enter your move \")\n",
    "player2 = input(\"please enter your move \")\n",
    "\n",
    "\n",
    "if (player1 == 'rock'):\n",
    "    if (player2 == 'rock'):\n",
    "        print(\"draw \")\n",
    "    elif (player2 == 'paper'):\n",
    "        print(\"player2 \")\n",
    "    else:\n",
    "        print(\"player1 \")\n",
    "        \n",
    "elif (player1 == 'sis'):\n",
    "    if (player2 == 'rock'):\n",
    "        print(\"palyer2 \")\n",
    "    elif (player2 == 'paper'):\n",
    "        print(\"player1 \")\n",
    "    else:\n",
    "        print(\"draw \")\n",
    "\n",
    "else:\n",
    "    if (player2 == 'rock'):\n",
    "        print(\"player1 \")\n",
    "    elif (player2 == 'paper'):\n",
    "        print(\"draw \")\n",
    "    else:\n",
    "        print(\"player2 \")"
   ]
  },
  {
   "cell_type": "code",
   "execution_count": null,
   "metadata": {},
   "outputs": [],
   "source": [
    "import random"
   ]
  },
  {
   "cell_type": "code",
   "execution_count": null,
   "metadata": {},
   "outputs": [],
   "source": [
    "x = random.randint(1, 10)\n",
    "print(x)\n",
    "y = int(input(\"please enter number between 1 an 10 \"))"
   ]
  },
  {
   "cell_type": "code",
   "execution_count": null,
   "metadata": {},
   "outputs": [],
   "source": [
    "if (x == y):\n",
    "    print(\"you're right\")\n",
    "elif (x > y):\n",
    "    print(\"try higher number\")\n",
    "else:\n",
    "    print(\"try lower number\")\n"
   ]
  },
  {
   "cell_type": "code",
   "execution_count": 5,
   "metadata": {},
   "outputs": [
    {
     "data": {
      "text/plain": [
       "[1, 2, 3, 5, 8, 13]"
      ]
     },
     "execution_count": 5,
     "metadata": {},
     "output_type": "execute_result"
    }
   ],
   "source": [
    "a = [1, 1, 2, 3, 5, 8, 13, 21, 34, 55, 89]\n",
    "b = [1, 2, 3, 4, 5, 6, 7, 8, 9, 10, 11, 12, 13]\n",
    "c = []\n",
    "\n",
    "for i in range(0, len(a)):\n",
    "    for j in range(0,len(b)):\n",
    "        if (a[i] == b[j]):\n",
    "            c.append(a[i])\n",
    "            break;\n",
    "c = set(c)\n",
    "c = list(c)\n",
    "c"
   ]
  },
  {
   "cell_type": "code",
   "execution_count": null,
   "metadata": {},
   "outputs": [],
   "source": []
  }
 ],
 "metadata": {
  "kernelspec": {
   "display_name": "Python 3",
   "language": "python",
   "name": "python3"
  },
  "language_info": {
   "codemirror_mode": {
    "name": "ipython",
    "version": 3
   },
   "file_extension": ".py",
   "mimetype": "text/x-python",
   "name": "python",
   "nbconvert_exporter": "python",
   "pygments_lexer": "ipython3",
   "version": "3.8.3"
  }
 },
 "nbformat": 4,
 "nbformat_minor": 4
}
